{
 "cells": [
  {
   "cell_type": "markdown",
   "metadata": {},
   "source": [
    "# ElasticSearch 6.3.2 With Python\n",
    "https://www.elastic.co/guide/en/elasticsearch/reference/current/_basic_concepts.html\n",
    "\n",
    "- Open source search engine based on apache lucene\n",
    "- written in java\n",
    "- Cross platform \n",
    "- Big focus on scalability\n",
    "- Designed to take data from any source, analyze it and search through it\n",
    "- Communication done through HTTP REST API\n",
    "- Schema-less JSON documents (like NoSQL dbs)\n",
    "- Near real-time search (small latency from document is indexd until it is seacheable, around 1s)\n",
    "- Used by quora, netflix, github, soundcloud"
   ]
  },
  {
   "cell_type": "markdown",
   "metadata": {},
   "source": [
    "## Cluster\n",
    "- Collection of nodes (servers) containing data\n",
    "- Cluster provides indexing and search capability\n",
    "- Identified by a unique name (defaults to \"elastichsearch\")"
   ]
  },
  {
   "cell_type": "markdown",
   "metadata": {},
   "source": [
    "## Node\n",
    "- A single node that is part of a cluster\n",
    "- Stores searchable data\n",
    "- Participates in a cluster's indexing and search capability\n",
    "- Identified by a name\n",
    "- Joins cluster \"elastichseach\" by default"
   ]
  },
  {
   "cell_type": "markdown",
   "metadata": {},
   "source": [
    "## Index\n",
    "- A collection of documents (product, account, movie)\n",
    "- Corresponds to a db witin a relational db system\n",
    "- Identified by a name, which must be lowercased (used when indexing, searching, updating and deleting index)\n",
    "- We can define as many index as you want within a cluster"
   ]
  },
  {
   "cell_type": "markdown",
   "metadata": {},
   "source": [
    "## Type\n",
    "- Represents a class/category of similar documents eg \"user\"\n",
    "- Consists of a anme and mapping\n",
    "- Equivalent of a table in relational database\n",
    "- An index can have one or more types defined each with their own mapping\n",
    "- Stored within a metadata field name _type\n"
   ]
  },
  {
   "cell_type": "markdown",
   "metadata": {},
   "source": [
    "## Mapping\n",
    "- Similar to a database schme for a table in a relational database\n",
    "- Describes the fields that a document of a given type may have\n",
    "- Equivalent of a table in relational database : includes data type of each filed string, integer, date and also information on how fileds should be indexed\n",
    "- Dynamic mapping means that is optional to define a mapping explicitly"
   ]
  },
  {
   "cell_type": "markdown",
   "metadata": {},
   "source": [
    "## Document\n",
    "- A basic unit of information that can be indexed\n",
    "- Consists of fileds, which are key/value pairs\n",
    "- Corresponds to an object in OOP \n",
    "- Documents are expressed in JSON\n",
    "- You can store as many documents with an index as you want"
   ]
  },
  {
   "cell_type": "markdown",
   "metadata": {},
   "source": [
    "## Shard\n",
    "- A index can be deivided into multiple pieces called shards, useful if an index contains more data than the hardware of a node can store (eg 1 tb data on a 500gb disk)\n",
    "- A shard is a fully functional and independant index, can be stored on any node in a cluster  \n",
    "- The number of shards can be specified when creating an index\n",
    "- Allows the scale horizontally by content volume (index spaceà\n",
    "- Allows to distribyte and //lize operations acorss shards, which increases perfomance "
   ]
  },
  {
   "cell_type": "markdown",
   "metadata": {},
   "source": [
    "## Replica\n",
    "- A copy of a shard\n",
    "- Provides highly avalability in case a shard or node fails, a replica never resides on the same node as the original shard\n",
    "- Allows scaling search volume, because search queries can be executed on all replicas in //\n",
    "- by default, ES add 5 primary shards and 1 replica for each index"
   ]
  },
  {
   "cell_type": "markdown",
   "metadata": {},
   "source": [
    "## The Missing Web UI for Elasticsearch\n",
    "https://github.com/appbaseio/dejavu\n",
    "\n",
    "<img src=\"https://camo.githubusercontent.com/5a15b79cebc8c9fe20ac6ac6ea0f54472b5fc41e/68747470733a2f2f692e696d6775722e636f6d2f484745455966752e676966\">"
   ]
  },
  {
   "cell_type": "code",
   "execution_count": 34,
   "metadata": {
    "collapsed": true
   },
   "outputs": [],
   "source": [
    "from datetime import datetime #alaways use this datetime!\n",
    "from elasticsearch import Elasticsearch\n",
    "\n",
    "#just for format dict output\n",
    "import json"
   ]
  },
  {
   "cell_type": "markdown",
   "metadata": {},
   "source": [
    "## 1- Connecting the client to the sever"
   ]
  },
  {
   "cell_type": "code",
   "execution_count": 2,
   "metadata": {
    "collapsed": true
   },
   "outputs": [],
   "source": [
    "# by default we connect to localhost:9200\n",
    "es = Elasticsearch()"
   ]
  },
  {
   "cell_type": "markdown",
   "metadata": {},
   "source": [
    "##  2 - Creating an index"
   ]
  },
  {
   "cell_type": "code",
   "execution_count": 3,
   "metadata": {
    "collapsed": false
   },
   "outputs": [],
   "source": [
    "# drop it if it already exists\n",
    "es.indices.delete(index='eventbrite', ignore=[400, 404])\n",
    "\n",
    "mappings = {\n",
    "    'mappings' : {\n",
    "        'event' : {\n",
    "            'properties' : {\n",
    "                'id' : {'type' : 'keyword', 'index' : 'true'},\n",
    "                 # lowercases, \n",
    "                 # splits on white spaces and puncation\n",
    "                 #stems : e.g farming farmed => farm\n",
    "                'name' : {'type' : 'text', 'analyzer' : 'english'}, \n",
    "\n",
    "                'description' : {'type' : 'text', 'analyzer' : 'english'}, \n",
    "\n",
    "                'city' : {'type' : 'keyword', 'index' : 'true'}, \n",
    "\n",
    "                'start_date' : {'type' : 'date'}, \n",
    "\n",
    "                'price' : {'type' : 'float'}\n",
    "            }\n",
    "        }\n",
    "    }\n",
    "}"
   ]
  },
  {
   "cell_type": "code",
   "execution_count": 4,
   "metadata": {
    "collapsed": false
   },
   "outputs": [
    {
     "name": "stdout",
     "output_type": "stream",
     "text": [
      "{'shards_acknowledged': True, 'acknowledged': True, 'index': 'eventbrite'}\n"
     ]
    }
   ],
   "source": [
    "# ignore status code 400 (index already exists)\n",
    "print(es.indices.create(index='eventbrite', body=mappings, ignore=400))"
   ]
  },
  {
   "cell_type": "markdown",
   "metadata": {},
   "source": [
    "## 3 - Indexing (Inserting) events"
   ]
  },
  {
   "cell_type": "code",
   "execution_count": 29,
   "metadata": {
    "collapsed": true
   },
   "outputs": [],
   "source": [
    "docs = [\n",
    "    {\n",
    "        'id' : '0',\n",
    "        'name' : 'Filbert Sorting for Fun and Profit', \n",
    "        'description' : 'test', \n",
    "        'city' : 'Nashville', \n",
    "        'start_date' : datetime(2016, 2, 15), \n",
    "        'price' : 15.99\n",
    "    },\n",
    "    {\n",
    "        'id' : '1',\n",
    "        'name' : 'test test2', \n",
    "        'description' : 'test test2', \n",
    "        'city' : 'Nashville', \n",
    "        'start_date' : datetime(2017, 2, 15), \n",
    "        'price' : 15.99\n",
    "    },\n",
    "    {\n",
    "        'id' : '2',\n",
    "        'name' : 'test test2', \n",
    "        'description' : 'test test2', \n",
    "        'city' : 'California', \n",
    "        'start_date' : datetime(2017, 2, 15), \n",
    "        'price' : 25\n",
    "    }\n",
    "]"
   ]
  },
  {
   "cell_type": "code",
   "execution_count": 30,
   "metadata": {
    "collapsed": false
   },
   "outputs": [
    {
     "data": {
      "text/plain": [
       "{'batches': 1,\n",
       " 'deleted': 2,\n",
       " 'failures': [],\n",
       " 'noops': 0,\n",
       " 'requests_per_second': -1.0,\n",
       " 'retries': {'bulk': 0, 'search': 0},\n",
       " 'throttled_millis': 0,\n",
       " 'throttled_until_millis': 0,\n",
       " 'timed_out': False,\n",
       " 'took': 13,\n",
       " 'total': 2,\n",
       " 'version_conflicts': 0}"
      ]
     },
     "execution_count": 30,
     "metadata": {},
     "output_type": "execute_result"
    }
   ],
   "source": [
    "delete_all_query = {\n",
    "    'query' : {\n",
    "        'match_all' : {}\n",
    "    }\n",
    "}\n",
    "es.delete_by_query(index=\"eventbrite\", doc_type=\"event\", body=delete_all_query)"
   ]
  },
  {
   "cell_type": "code",
   "execution_count": 31,
   "metadata": {
    "collapsed": false
   },
   "outputs": [
    {
     "name": "stdout",
     "output_type": "stream",
     "text": [
      "{'_type': 'event', '_primary_term': 1, 'result': 'created', '_index': 'eventbrite', '_id': '0', '_shards': {'successful': 1, 'failed': 0, 'total': 2}, '_seq_no': 2, '_version': 3}\n",
      "{'_type': 'event', '_primary_term': 1, 'result': 'created', '_index': 'eventbrite', '_id': '1', '_shards': {'successful': 1, 'failed': 0, 'total': 2}, '_seq_no': 2, '_version': 3}\n",
      "{'_type': 'event', '_primary_term': 1, 'result': 'created', '_index': 'eventbrite', '_id': '2', '_shards': {'successful': 1, 'failed': 0, 'total': 2}, '_seq_no': 0, '_version': 1}\n"
     ]
    }
   ],
   "source": [
    "# there are options for bulk and streaming indexing\n",
    "for i, doc in enumerate(docs):\n",
    "    # Adds a typed JSON document in a specific index, making it searchable.\n",
    "    # Behind the scenes this method calls index(…, op_type=’create’)\n",
    "    res = es.create(index=\"eventbrite\", doc_type=\"event\", body=doc, id=int(doc['id']))\n",
    "    print(res)"
   ]
  },
  {
   "cell_type": "markdown",
   "metadata": {},
   "source": [
    "## 4- Querying events : match_all with QUERY SQL"
   ]
  },
  {
   "cell_type": "code",
   "execution_count": 21,
   "metadata": {
    "collapsed": false
   },
   "outputs": [
    {
     "data": {
      "text/plain": [
       "{'_shards': {'failed': 0, 'skipped': 0, 'successful': 5, 'total': 5},\n",
       " 'hits': {'hits': [{'_id': '0',\n",
       "    '_index': 'eventbrite',\n",
       "    '_score': 1.0,\n",
       "    '_source': {'city': 'Nashville',\n",
       "     'description': 'test',\n",
       "     'id': '0',\n",
       "     'name': 'Filbert Sorting for Fun and Profit',\n",
       "     'price': 15.99,\n",
       "     'start_date': '2016-02-15T00:00:00'},\n",
       "    '_type': 'event'},\n",
       "   {'_id': '1',\n",
       "    '_index': 'eventbrite',\n",
       "    '_score': 1.0,\n",
       "    '_source': {'city': 'Nashville',\n",
       "     'description': 'test test2',\n",
       "     'id': '1',\n",
       "     'name': 'test test2',\n",
       "     'price': 15.99,\n",
       "     'start_date': '2017-02-15T00:00:00'},\n",
       "    '_type': 'event'}],\n",
       "  'max_score': 1.0,\n",
       "  'total': 2},\n",
       " 'timed_out': False,\n",
       " 'took': 1}"
      ]
     },
     "execution_count": 21,
     "metadata": {},
     "output_type": "execute_result"
    }
   ],
   "source": [
    "query = {\n",
    "    'query' : {\n",
    "        'match_all' : {} # select * from events.\n",
    "    }\n",
    "}\n",
    "es.search(index='eventbrite', body=query)"
   ]
  },
  {
   "cell_type": "markdown",
   "metadata": {},
   "source": [
    "## 4- Querying events : term"
   ]
  },
  {
   "cell_type": "code",
   "execution_count": 20,
   "metadata": {
    "collapsed": false
   },
   "outputs": [
    {
     "data": {
      "text/plain": [
       "{'_shards': {'failed': 0, 'skipped': 0, 'successful': 5, 'total': 5},\n",
       " 'hits': {'hits': [{'_id': '0',\n",
       "    '_index': 'eventbrite',\n",
       "    '_score': 0.2876821,\n",
       "    '_source': {'city': 'Nashville',\n",
       "     'description': 'test',\n",
       "     'id': '0',\n",
       "     'name': 'Filbert Sorting for Fun and Profit',\n",
       "     'price': 15.99,\n",
       "     'start_date': '2016-02-15T00:00:00'},\n",
       "    '_type': 'event'},\n",
       "   {'_id': '1',\n",
       "    '_index': 'eventbrite',\n",
       "    '_score': 0.2876821,\n",
       "    '_source': {'city': 'Nashville',\n",
       "     'description': 'test test2',\n",
       "     'id': '1',\n",
       "     'name': 'test test2',\n",
       "     'price': 15.99,\n",
       "     'start_date': '2017-02-15T00:00:00'},\n",
       "    '_type': 'event'}],\n",
       "  'max_score': 0.2876821,\n",
       "  'total': 2},\n",
       " 'timed_out': False,\n",
       " 'took': 1}"
      ]
     },
     "execution_count": 20,
     "metadata": {},
     "output_type": "execute_result"
    }
   ],
   "source": [
    "query = {\n",
    "    'query' : {\n",
    "        'term' : {\n",
    "          'city' : 'Nashville'   \n",
    "        }\n",
    "    }\n",
    "}\n",
    "\n",
    "es.search(index='eventbrite', body=query)"
   ]
  },
  {
   "cell_type": "markdown",
   "metadata": {},
   "source": [
    "## 4- Querying events : match"
   ]
  },
  {
   "cell_type": "code",
   "execution_count": 19,
   "metadata": {
    "collapsed": false
   },
   "outputs": [
    {
     "data": {
      "text/plain": [
       "{'_shards': {'failed': 0, 'skipped': 0, 'successful': 5, 'total': 5},\n",
       " 'hits': {'hits': [{'_id': '0',\n",
       "    '_index': 'eventbrite',\n",
       "    '_score': 0.2876821,\n",
       "    '_source': {'city': 'Nashville',\n",
       "     'description': 'test',\n",
       "     'id': '0',\n",
       "     'name': 'Filbert Sorting for Fun and Profit',\n",
       "     'price': 15.99,\n",
       "     'start_date': '2016-02-15T00:00:00'},\n",
       "    '_type': 'event'}],\n",
       "  'max_score': 0.2876821,\n",
       "  'total': 1},\n",
       " 'timed_out': False,\n",
       " 'took': 1}"
      ]
     },
     "execution_count": 19,
     "metadata": {},
     "output_type": "execute_result"
    }
   ],
   "source": [
    "query = {\n",
    "    'query' : {\n",
    "        'match' : {\n",
    "          'name' : 'SORTED' #analyzer english\n",
    "        }\n",
    "    }\n",
    "}\n",
    "\n",
    "es.search(index='eventbrite', body=query)"
   ]
  },
  {
   "cell_type": "markdown",
   "metadata": {},
   "source": [
    "## 5- Querying events : match_phrase"
   ]
  },
  {
   "cell_type": "code",
   "execution_count": 18,
   "metadata": {
    "collapsed": false
   },
   "outputs": [
    {
     "data": {
      "text/plain": [
       "{'_shards': {'failed': 0, 'skipped': 0, 'successful': 5, 'total': 5},\n",
       " 'hits': {'hits': [], 'max_score': None, 'total': 0},\n",
       " 'timed_out': False,\n",
       " 'took': 1}"
      ]
     },
     "execution_count": 18,
     "metadata": {},
     "output_type": "execute_result"
    }
   ],
   "source": [
    "query = {\n",
    "    'query' : {\n",
    "        'match_phrase' : {\n",
    "          'name' : 'sorting filbert' #order not respected so fail\n",
    "        }\n",
    "    }\n",
    "}\n",
    "es.search(index='eventbrite', body=query)"
   ]
  },
  {
   "cell_type": "code",
   "execution_count": 17,
   "metadata": {
    "collapsed": false
   },
   "outputs": [
    {
     "data": {
      "text/plain": [
       "{'_shards': {'failed': 0, 'skipped': 0, 'successful': 5, 'total': 5},\n",
       " 'hits': {'hits': [{'_id': '0',\n",
       "    '_index': 'eventbrite',\n",
       "    '_score': 0.5753642,\n",
       "    '_source': {'city': 'Nashville',\n",
       "     'description': 'test',\n",
       "     'id': '0',\n",
       "     'name': 'Filbert Sorting for Fun and Profit',\n",
       "     'price': 15.99,\n",
       "     'start_date': '2016-02-15T00:00:00'},\n",
       "    '_type': 'event'}],\n",
       "  'max_score': 0.5753642,\n",
       "  'total': 1},\n",
       " 'timed_out': False,\n",
       " 'took': 1}"
      ]
     },
     "execution_count": 17,
     "metadata": {},
     "output_type": "execute_result"
    }
   ],
   "source": [
    "query = {\n",
    "    'query' : {\n",
    "        'match_phrase' : {\n",
    "          'name' : 'filberts sort' #notice spelling changes!\n",
    "        }\n",
    "    }\n",
    "}\n",
    "\n",
    "es.search(index='eventbrite', body=query)"
   ]
  },
  {
   "cell_type": "code",
   "execution_count": 16,
   "metadata": {
    "collapsed": false
   },
   "outputs": [
    {
     "data": {
      "text/plain": [
       "{'_shards': {'failed': 0, 'skipped': 0, 'successful': 5, 'total': 5},\n",
       " 'hits': {'hits': [], 'max_score': None, 'total': 0},\n",
       " 'timed_out': False,\n",
       " 'took': 2}"
      ]
     },
     "execution_count": 16,
     "metadata": {},
     "output_type": "execute_result"
    }
   ],
   "source": [
    "query = {\n",
    "    'query' : {\n",
    "        'match_phrase' : {\n",
    "          'name' : 'filbert fun' #fail world spaces not respected\n",
    "        }\n",
    "    }\n",
    "}\n",
    "\n",
    "es.search(index='eventbrite', body=query)"
   ]
  },
  {
   "cell_type": "code",
   "execution_count": 15,
   "metadata": {
    "collapsed": false
   },
   "outputs": [
    {
     "data": {
      "text/plain": [
       "{'_shards': {'failed': 0, 'skipped': 0, 'successful': 5, 'total': 5},\n",
       " 'hits': {'hits': [{'_id': '0',\n",
       "    '_index': 'eventbrite',\n",
       "    '_score': 0.27517417,\n",
       "    '_source': {'city': 'Nashville',\n",
       "     'description': 'test',\n",
       "     'id': '0',\n",
       "     'name': 'Filbert Sorting for Fun and Profit',\n",
       "     'price': 15.99,\n",
       "     'start_date': '2016-02-15T00:00:00'},\n",
       "    '_type': 'event'}],\n",
       "  'max_score': 0.27517417,\n",
       "  'total': 1},\n",
       " 'timed_out': False,\n",
       " 'took': 3}"
      ]
     },
     "execution_count": 15,
     "metadata": {},
     "output_type": "execute_result"
    }
   ],
   "source": [
    "query = {\n",
    "    'query' : {\n",
    "        'match_phrase' : {\n",
    "          'name' : {\n",
    "            'query' : 'filbert fun',\n",
    "            'slop' : 2 #withing the space of 2\n",
    "            }\n",
    "        }\n",
    "    }\n",
    "}\n",
    "\n",
    "es.search(index='eventbrite', body=query)"
   ]
  },
  {
   "cell_type": "markdown",
   "metadata": {},
   "source": [
    "## 6- Querying events : Complexe query with bool"
   ]
  },
  {
   "cell_type": "code",
   "execution_count": 26,
   "metadata": {
    "collapsed": false
   },
   "outputs": [
    {
     "data": {
      "text/plain": [
       "{'_shards': {'failed': 0, 'skipped': 0, 'successful': 5, 'total': 5},\n",
       " 'hits': {'hits': [{'_id': '0',\n",
       "    '_index': 'eventbrite',\n",
       "    '_score': 0.83803046,\n",
       "    '_source': {'city': 'Nashville',\n",
       "     'description': 'test',\n",
       "     'id': '0',\n",
       "     'name': 'Filbert Sorting for Fun and Profit',\n",
       "     'price': 15.99,\n",
       "     'start_date': '2016-02-15T00:00:00'},\n",
       "    '_type': 'event'},\n",
       "   {'_id': '1',\n",
       "    '_index': 'eventbrite',\n",
       "    '_score': 0.2876821,\n",
       "    '_source': {'city': 'Nashville',\n",
       "     'description': 'test test2',\n",
       "     'id': '1',\n",
       "     'name': 'test test2',\n",
       "     'price': 15.99,\n",
       "     'start_date': '2017-02-15T00:00:00'},\n",
       "    '_type': 'event'}],\n",
       "  'max_score': 0.83803046,\n",
       "  'total': 2},\n",
       " 'timed_out': False,\n",
       " 'took': 2}"
      ]
     },
     "execution_count": 26,
     "metadata": {},
     "output_type": "execute_result"
    }
   ],
   "source": [
    "query = {\n",
    "    'query' : {\n",
    "        'bool' : {\n",
    "          'must' : [{\n",
    "            'term' : {\n",
    "            'city' : 'Nashville'\n",
    "                }\n",
    "            }],\n",
    "            'should' : [{\n",
    "            'match_phrase' : {\n",
    "              'name' : {\n",
    "                'query' : 'filbert fun',\n",
    "                    'slop' : 2, #withing the space of 2\n",
    "                    'boost' : 2 #control how important each clause (adjusting weights)\n",
    "                    }\n",
    "                }\n",
    "            }]\n",
    "        }\n",
    "    }\n",
    "}\n",
    "es.search(index='eventbrite', body=query)"
   ]
  },
  {
   "cell_type": "markdown",
   "metadata": {},
   "source": [
    "## 6- Scoring based on TF*IDF\n",
    "**Term freqeuncey** \\* ** Inverse document frequencey **"
   ]
  },
  {
   "cell_type": "code",
   "execution_count": 27,
   "metadata": {
    "collapsed": false
   },
   "outputs": [
    {
     "data": {
      "text/plain": [
       "' Example:\\nPhrase = \"hey diddle diddle the cat and the fiddle\"\\nQuery = \"the diddle\"\\n\\nTF(the) = 2\\nTF(diddle) = 2\\nIDF(the) = 1/infini = 0  (word the is very famous in document)\\nIDF(diddle) = 1/7\\nscore = TF(the) * IDF(the)  + TF(diddle) * IDF(diddle) = 2/7\\n \\n'"
      ]
     },
     "execution_count": 27,
     "metadata": {},
     "output_type": "execute_result"
    }
   ],
   "source": [
    "\"\"\" Example:\n",
    "Phrase = \"hey diddle diddle the cat and the fiddle\"\n",
    "Query = \"the diddle\"\n",
    "\n",
    "TF(the) = 2\n",
    "TF(diddle) = 2\n",
    "IDF(the) = 1/infini = 0  (word the is very famous in document)\n",
    "IDF(diddle) = 1/7\n",
    "score = TF(the) * IDF(the)  + TF(diddle) * IDF(diddle) = 2/7\n",
    " \n",
    "\"\"\""
   ]
  },
  {
   "cell_type": "markdown",
   "metadata": {},
   "source": [
    "# Search Engine Internals"
   ]
  },
  {
   "cell_type": "markdown",
   "metadata": {},
   "source": [
    "## Getting Data In : Analysis\n",
    "1- Tokenization\n",
    "\n",
    "2- Lower casing\n",
    "\n",
    "3- Stop wording\n",
    "\n",
    "4- Stemming \n",
    "\n",
    "5- Indexing (secret sauce, analyzer + tokenizer)"
   ]
  },
  {
   "cell_type": "markdown",
   "metadata": {},
   "source": [
    "## Getting Data Out : boolean query\n",
    "inverted_index = {\n",
    "    'hi' : [34, 92, 119],\n",
    "    'zebra' : [34, 92, 118]\n",
    "}\n",
    "\n",
    "hi & zebra ==> [34, 92]\n",
    "\n",
    "hi or zebra ==> [34, 92, 119, 118]"
   ]
  },
  {
   "cell_type": "markdown",
   "metadata": {},
   "source": [
    "## Getting Data Out : Sorting by relevance\n",
    "inverted_index = {\n",
    "    'hi' : [34, 92, 119],\n",
    "    'zebra' : [34, 92, 118]\n",
    "}\n",
    "\n",
    "hi or zebra ==> [34, 92, 119, 118]\n",
    "\n",
    "- Initialize Priority Queue\n",
    "- For each matching doc : \n",
    "  - calculate TF * IDF\n",
    "  - add to priority queue\n",
    "  - pop off lowest scoring doc\n",
    "- Return contents of Priority"
   ]
  },
  {
   "cell_type": "markdown",
   "metadata": {},
   "source": [
    "## Getting Data Out : Aggregation\n",
    "inverted_index = {\n",
    "    'hi' : [34, 92, 119],\n",
    "    'zebra' : [34, 92, 118]\n",
    "}\n",
    "\n",
    "hi or zebra ==> [34, 92, 119, 118]\n",
    "\n",
    "- Initialize Aggregator(sum, average, count, etc)\n",
    "- For each matching doc : \n",
    "  - Retrieve \"interesting\" info (ex.price)\n",
    "  - add to Aggregator\n",
    "- Return results from Aggregator"
   ]
  },
  {
   "cell_type": "code",
   "execution_count": 40,
   "metadata": {
    "collapsed": false
   },
   "outputs": [
    {
     "name": "stdout",
     "output_type": "stream",
     "text": [
      "{\n",
      "  \"aggregations\": {\n",
      "    \"by_price\": {\n",
      "      \"buckets\": [\n",
      "        {\n",
      "          \"key\": 10.0,\n",
      "          \"doc_count\": 2\n",
      "        },\n",
      "        {\n",
      "          \"key\": 20.0,\n",
      "          \"doc_count\": 1\n",
      "        }\n",
      "      ]\n",
      "    },\n",
      "    \"by_city\": {\n",
      "      \"doc_count_error_upper_bound\": 0,\n",
      "      \"buckets\": [\n",
      "        {\n",
      "          \"key\": \"Nashville\",\n",
      "          \"doc_count\": 2\n",
      "        },\n",
      "        {\n",
      "          \"key\": \"California\",\n",
      "          \"doc_count\": 1\n",
      "        }\n",
      "      ],\n",
      "      \"sum_other_doc_count\": 0\n",
      "    }\n",
      "  },\n",
      "  \"timed_out\": false,\n",
      "  \"_shards\": {\n",
      "    \"skipped\": 0,\n",
      "    \"successful\": 5,\n",
      "    \"failed\": 0,\n",
      "    \"total\": 5\n",
      "  },\n",
      "  \"took\": 2,\n",
      "  \"hits\": {\n",
      "    \"hits\": [\n",
      "      {\n",
      "        \"_index\": \"eventbrite\",\n",
      "        \"_type\": \"event\",\n",
      "        \"_score\": 1.0,\n",
      "        \"_source\": {\n",
      "          \"name\": \"Filbert Sorting for Fun and Profit\",\n",
      "          \"id\": \"0\",\n",
      "          \"city\": \"Nashville\",\n",
      "          \"description\": \"test\",\n",
      "          \"price\": 15.99,\n",
      "          \"start_date\": \"2016-02-15T00:00:00\"\n",
      "        },\n",
      "        \"_id\": \"0\"\n",
      "      },\n",
      "      {\n",
      "        \"_index\": \"eventbrite\",\n",
      "        \"_type\": \"event\",\n",
      "        \"_score\": 1.0,\n",
      "        \"_source\": {\n",
      "          \"name\": \"test test2\",\n",
      "          \"id\": \"2\",\n",
      "          \"city\": \"California\",\n",
      "          \"description\": \"test test2\",\n",
      "          \"price\": 25,\n",
      "          \"start_date\": \"2017-02-15T00:00:00\"\n",
      "        },\n",
      "        \"_id\": \"2\"\n",
      "      },\n",
      "      {\n",
      "        \"_index\": \"eventbrite\",\n",
      "        \"_type\": \"event\",\n",
      "        \"_score\": 1.0,\n",
      "        \"_source\": {\n",
      "          \"name\": \"test test2\",\n",
      "          \"id\": \"1\",\n",
      "          \"city\": \"Nashville\",\n",
      "          \"description\": \"test test2\",\n",
      "          \"price\": 15.99,\n",
      "          \"start_date\": \"2017-02-15T00:00:00\"\n",
      "        },\n",
      "        \"_id\": \"1\"\n",
      "      }\n",
      "    ],\n",
      "    \"total\": 3,\n",
      "    \"max_score\": 1.0\n",
      "  }\n",
      "}\n"
     ]
    }
   ],
   "source": [
    "query = {\n",
    "    'query' : {\n",
    "      'match_all' : {}\n",
    "    },\n",
    "    'aggs' : {\n",
    "        'by_city' : {\n",
    "            'terms' : { #count by city\n",
    "                'field' : 'city' \n",
    "            }\n",
    "        },\n",
    "         'by_price' : {\n",
    "            'histogram' : {\n",
    "                'field' : 'price',\n",
    "                'interval' : 10,\n",
    "            }\n",
    "        }\n",
    "    }\n",
    "}\n",
    "res = es.search(index='eventbrite', body=query)\n",
    "print(json.dumps(res, indent=2))"
   ]
  },
  {
   "cell_type": "code",
   "execution_count": 41,
   "metadata": {
    "collapsed": false
   },
   "outputs": [
    {
     "name": "stdout",
     "output_type": "stream",
     "text": [
      "{\n",
      "  \"aggregations\": {\n",
      "    \"by_city\": {\n",
      "      \"doc_count_error_upper_bound\": 0,\n",
      "      \"buckets\": [\n",
      "        {\n",
      "          \"by_price\": {\n",
      "            \"buckets\": [\n",
      "              {\n",
      "                \"key\": 10.0,\n",
      "                \"doc_count\": 2\n",
      "              }\n",
      "            ]\n",
      "          },\n",
      "          \"key\": \"Nashville\",\n",
      "          \"doc_count\": 2\n",
      "        },\n",
      "        {\n",
      "          \"by_price\": {\n",
      "            \"buckets\": [\n",
      "              {\n",
      "                \"key\": 20.0,\n",
      "                \"doc_count\": 1\n",
      "              }\n",
      "            ]\n",
      "          },\n",
      "          \"key\": \"California\",\n",
      "          \"doc_count\": 1\n",
      "        }\n",
      "      ],\n",
      "      \"sum_other_doc_count\": 0\n",
      "    }\n",
      "  },\n",
      "  \"timed_out\": false,\n",
      "  \"_shards\": {\n",
      "    \"skipped\": 0,\n",
      "    \"successful\": 5,\n",
      "    \"failed\": 0,\n",
      "    \"total\": 5\n",
      "  },\n",
      "  \"took\": 5,\n",
      "  \"hits\": {\n",
      "    \"hits\": [\n",
      "      {\n",
      "        \"_index\": \"eventbrite\",\n",
      "        \"_type\": \"event\",\n",
      "        \"_score\": 1.0,\n",
      "        \"_source\": {\n",
      "          \"name\": \"Filbert Sorting for Fun and Profit\",\n",
      "          \"id\": \"0\",\n",
      "          \"city\": \"Nashville\",\n",
      "          \"description\": \"test\",\n",
      "          \"price\": 15.99,\n",
      "          \"start_date\": \"2016-02-15T00:00:00\"\n",
      "        },\n",
      "        \"_id\": \"0\"\n",
      "      },\n",
      "      {\n",
      "        \"_index\": \"eventbrite\",\n",
      "        \"_type\": \"event\",\n",
      "        \"_score\": 1.0,\n",
      "        \"_source\": {\n",
      "          \"name\": \"test test2\",\n",
      "          \"id\": \"2\",\n",
      "          \"city\": \"California\",\n",
      "          \"description\": \"test test2\",\n",
      "          \"price\": 25,\n",
      "          \"start_date\": \"2017-02-15T00:00:00\"\n",
      "        },\n",
      "        \"_id\": \"2\"\n",
      "      },\n",
      "      {\n",
      "        \"_index\": \"eventbrite\",\n",
      "        \"_type\": \"event\",\n",
      "        \"_score\": 1.0,\n",
      "        \"_source\": {\n",
      "          \"name\": \"test test2\",\n",
      "          \"id\": \"1\",\n",
      "          \"city\": \"Nashville\",\n",
      "          \"description\": \"test test2\",\n",
      "          \"price\": 15.99,\n",
      "          \"start_date\": \"2017-02-15T00:00:00\"\n",
      "        },\n",
      "        \"_id\": \"1\"\n",
      "      }\n",
      "    ],\n",
      "    \"total\": 3,\n",
      "    \"max_score\": 1.0\n",
      "  }\n",
      "}\n"
     ]
    }
   ],
   "source": [
    "query = {\n",
    "    'query' : {\n",
    "      'match_all' : {}\n",
    "    },\n",
    "    'aggs' : {\n",
    "        'by_city' : {\n",
    "            'terms' : { #count by city\n",
    "                'field' : 'city' \n",
    "            },\n",
    "         'aggs' : {\n",
    "            'by_price' : {\n",
    "                'histogram' : {\n",
    "                    'field' : 'price',\n",
    "                    'interval' : 10,\n",
    "                    }\n",
    "                }\n",
    "            }\n",
    "        }\n",
    "    }\n",
    "}\n",
    "res = es.search(index='eventbrite', body=query)\n",
    "print(json.dumps(res, indent=2))"
   ]
  }
 ],
 "metadata": {
  "kernelspec": {
   "display_name": "Python [conda env:Anaconda3]",
   "language": "python",
   "name": "conda-env-Anaconda3-py"
  },
  "language_info": {
   "codemirror_mode": {
    "name": "ipython",
    "version": 3
   },
   "file_extension": ".py",
   "mimetype": "text/x-python",
   "name": "python",
   "nbconvert_exporter": "python",
   "pygments_lexer": "ipython3",
   "version": "3.5.2"
  }
 },
 "nbformat": 4,
 "nbformat_minor": 1
}
